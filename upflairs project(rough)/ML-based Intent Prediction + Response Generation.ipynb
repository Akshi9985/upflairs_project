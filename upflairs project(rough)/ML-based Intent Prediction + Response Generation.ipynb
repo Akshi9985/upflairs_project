{
 "cells": [
  {
   "cell_type": "code",
   "execution_count": 1,
   "id": "93e82a1f",
   "metadata": {},
   "outputs": [],
   "source": [
    "import json\n",
    "import random\n",
    "import joblib\n",
    "import os"
   ]
  },
  {
   "cell_type": "code",
   "execution_count": 2,
   "id": "a52ee61d",
   "metadata": {},
   "outputs": [],
   "source": [
    "INTENTS_FILE = 'intent.json'\n",
    "MODEL_FILE = 'chatbot_model.pkl'\n",
    "VECTORIZER_FILE = 'vectorizer.pkl'\n",
    "LABEL_ENCODER_FILE = 'label_encoder.pkl'"
   ]
  },
  {
   "cell_type": "code",
   "execution_count": 3,
   "id": "7892ab31",
   "metadata": {},
   "outputs": [],
   "source": [
    "def load_files():\n",
    "    try:\n",
    "        with open(INTENTS_FILE, 'r', encoding='utf-8') as f:\n",
    "            data = json.load(f)\n",
    "        \n",
    "        model = joblib.load(MODEL_FILE)\n",
    "        vectorizer = joblib.load(VECTORIZER_FILE)\n",
    "        label_encoder = joblib.load(LABEL_ENCODER_FILE)\n",
    "        \n",
    "        print(\"All files loaded successfully!\")\n",
    "        return model, vectorizer, label_encoder, data\n",
    "    except FileNotFoundError as e:\n",
    "        print(f\"File not found error: {e}\")\n",
    "        print(\"Please verify:\")\n",
    "        print(f\"2.File names are exactly: {INTENTS_FILE}, {MODEL_FILE}, {VECTORIZER_FILE}, {LABEL_ENCODER_FILE}\")\n",
    "        exit()\n",
    "    except Exception as e:\n",
    "        print(f\"Error loading files: {e}\")\n",
    "        exit()"
   ]
  },
  {
   "cell_type": "code",
   "execution_count": 4,
   "id": "1b7168a0",
   "metadata": {},
   "outputs": [],
   "source": [
    "def predict_intent(text, model, vectorizer, label_encoder):\n",
    "    vec = vectorizer.transform([text])\n",
    "    prediction = model.predict(vec)\n",
    "    return label_encoder.inverse_transform(prediction)[0]\n",
    "\n",
    "def get_response(intent_tag, intents_data):\n",
    "    for intent in intents_data['intents']:\n",
    "        if intent['tag'] == intent_tag:\n",
    "            return random.choice(intent['responses'])\n",
    "    return \"Sorry, I didn't understand that.\"\n"
   ]
  },
  {
   "cell_type": "code",
   "execution_count": 5,
   "id": "96ed4a2b",
   "metadata": {},
   "outputs": [
    {
     "name": "stdout",
     "output_type": "stream",
     "text": [
      "All files loaded successfully!\n",
      "\n",
      "Upflairs Chatbot Activated! (Type 'exit' to quit)\n",
      "\n",
      "Input: hi\n",
      "Bot: Hi there! Looking for information about our courses or internships?\n",
      "\n",
      "Input: hi\n",
      "Bot: Hi there! Looking for information about our courses or internships?\n",
      "\n",
      "Input: tell me about upflairs\n",
      "Bot: As an education technology innovator, we focus on immersive learning through AI, VR, and industry-aligned curriculum.\n",
      "\n",
      "Input: course duration\n",
      "Bot: We offer 40+ courses across: • Artificial Intelligence • Web/Mobile Development • Cloud & DevOps • Robotics & IoT • Cybersecurity • Data Science\n",
      "Bot: Goodbye! Have a great day!\n"
     ]
    }
   ],
   "source": [
    "def main():\n",
    "    model, vectorizer, label_encoder, data = load_files()\n",
    "\n",
    "    print(\"\\nUpflairs Chatbot Activated! (Type 'exit' to quit)\")\n",
    "    \n",
    "    while True:\n",
    "        user_input = input(\"\\nYou: \").strip()\n",
    "\n",
    "        if user_input.lower() in ['exit', 'quit', 'bye']:\n",
    "            print(\"Bot: Goodbye! Have a great day!\")\n",
    "            break\n",
    "\n",
    "        if not user_input:\n",
    "            continue\n",
    "\n",
    "        intent = predict_intent(user_input, model, vectorizer, label_encoder)\n",
    "        \n",
    "        response = get_response(intent, data)\n",
    "\n",
    "        print(f\"\\nInput: {user_input}\")\n",
    "        print(f\"Bot: {response}\")\n",
    "\n",
    "if __name__ == \"__main__\":\n",
    "    main()\n"
   ]
  }
 ],
 "metadata": {
  "kernelspec": {
   "display_name": "Python 3",
   "language": "python",
   "name": "python3"
  },
  "language_info": {
   "codemirror_mode": {
    "name": "ipython",
    "version": 3
   },
   "file_extension": ".py",
   "mimetype": "text/x-python",
   "name": "python",
   "nbconvert_exporter": "python",
   "pygments_lexer": "ipython3",
   "version": "3.12.3"
  }
 },
 "nbformat": 4,
 "nbformat_minor": 5
}
