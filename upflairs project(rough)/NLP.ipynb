{
 "cells": [
  {
   "cell_type": "code",
   "execution_count": 1,
   "id": "2fe3dd3f",
   "metadata": {},
   "outputs": [],
   "source": [
    "import json\n",
    "import nltk\n",
    "import string\n",
    "from nltk.stem import WordNetLemmatizer\n",
    "from nltk.corpus import stopwords\n",
    "from sklearn.preprocessing import LabelEncoder"
   ]
  },
  {
   "cell_type": "code",
   "execution_count": 2,
   "id": "1a12270c",
   "metadata": {},
   "outputs": [],
   "source": [
    "with open('intent.json', 'r', encoding='utf-8') as f:\n",
    "    data = json.load(f)\n"
   ]
  },
  {
   "cell_type": "code",
   "execution_count": 3,
   "id": "4ed4562b",
   "metadata": {},
   "outputs": [],
   "source": [
    "lemmatizer = WordNetLemmatizer()\n",
    "stop_words = set(stopwords.words('english'))"
   ]
  },
  {
   "cell_type": "code",
   "execution_count": 4,
   "id": "046685da",
   "metadata": {},
   "outputs": [],
   "source": [
    "def preprocess_text(text):\n",
    "    tokens = nltk.word_tokenize(text.lower())\n",
    "    cleaned = [\n",
    "        lemmatizer.lemmatize(word)\n",
    "        for word in tokens\n",
    "        if word not in stop_words and word not in string.punctuation\n",
    "    ]\n",
    "    return ' '.join(cleaned)\n"
   ]
  },
  {
   "cell_type": "code",
   "execution_count": 5,
   "id": "2d61f449",
   "metadata": {},
   "outputs": [],
   "source": [
    "X = []\n",
    "y = []"
   ]
  },
  {
   "cell_type": "code",
   "execution_count": 6,
   "id": "826ad8c3",
   "metadata": {},
   "outputs": [],
   "source": [
    "import string \n",
    "for intent in data['intents']:\n",
    "    for pattern in intent['patterns']:\n",
    "        cleaned = preprocess_text(pattern)\n",
    "        X.append(cleaned)\n",
    "        y.append(intent['tag'])"
   ]
  },
  {
   "cell_type": "code",
   "execution_count": 7,
   "id": "c4bbf4ec",
   "metadata": {},
   "outputs": [],
   "source": [
    "label_encoder = LabelEncoder()\n",
    "y_encoded = label_encoder.fit_transform(y)"
   ]
  },
  {
   "cell_type": "code",
   "execution_count": 8,
   "id": "e7c5d48d",
   "metadata": {},
   "outputs": [
    {
     "name": "stdout",
     "output_type": "stream",
     "text": [
      "Total samples: 153\n"
     ]
    }
   ],
   "source": [
    "print(f\"Total samples: {len(X)}\")"
   ]
  },
  {
   "cell_type": "code",
   "execution_count": 9,
   "id": "eb4d09a5",
   "metadata": {},
   "outputs": [
    {
     "name": "stdout",
     "output_type": "stream",
     "text": [
      "Sample cleaned input: hi\n"
     ]
    }
   ],
   "source": [
    "print(\"Sample cleaned input:\", X[0])"
   ]
  },
  {
   "cell_type": "code",
   "execution_count": 10,
   "id": "f33f1f21",
   "metadata": {},
   "outputs": [
    {
     "name": "stdout",
     "output_type": "stream",
     "text": [
      "Original tag: greeting\n"
     ]
    }
   ],
   "source": [
    "print(\"Original tag:\", y[0])"
   ]
  },
  {
   "cell_type": "code",
   "execution_count": 11,
   "id": "f48225a2",
   "metadata": {},
   "outputs": [
    {
     "name": "stdout",
     "output_type": "stream",
     "text": [
      "Encoded tag: 7\n"
     ]
    }
   ],
   "source": [
    "print(\"Encoded tag:\", y_encoded[0])"
   ]
  },
  {
   "cell_type": "code",
   "execution_count": 12,
   "id": "e99caee5",
   "metadata": {},
   "outputs": [
    {
     "name": "stdout",
     "output_type": "stream",
     "text": [
      "All tags: ['admission_process', 'appreciation', 'company_information', 'contact_details', 'course_catalog', 'farewell', 'feedback_submission', 'greeting', 'internship_inquiry', 'operating_hours', 'placement_assistance']\n"
     ]
    }
   ],
   "source": [
    "print(\"All tags:\", list(label_encoder.classes_))"
   ]
  },
  {
   "cell_type": "code",
   "execution_count": 13,
   "id": "e15413ba",
   "metadata": {},
   "outputs": [
    {
     "ename": "NameError",
     "evalue": "name 'joblib' is not defined",
     "output_type": "error",
     "traceback": [
      "\u001b[31m---------------------------------------------------------------------------\u001b[39m",
      "\u001b[31mNameError\u001b[39m                                 Traceback (most recent call last)",
      "\u001b[36mCell\u001b[39m\u001b[36m \u001b[39m\u001b[32mIn[13]\u001b[39m\u001b[32m, line 1\u001b[39m\n\u001b[32m----> \u001b[39m\u001b[32m1\u001b[39m \u001b[43mjoblib\u001b[49m.dump(X, \u001b[33m'\u001b[39m\u001b[33mX_data.pkl\u001b[39m\u001b[33m'\u001b[39m)\n\u001b[32m      2\u001b[39m joblib.dump(y_encoded, \u001b[33m'\u001b[39m\u001b[33my_data.pkl\u001b[39m\u001b[33m'\u001b[39m)\n\u001b[32m      3\u001b[39m joblib.dump(label_encoder, \u001b[33m'\u001b[39m\u001b[33mlabel_encoder.pkl\u001b[39m\u001b[33m'\u001b[39m)\n",
      "\u001b[31mNameError\u001b[39m: name 'joblib' is not defined"
     ]
    }
   ],
   "source": [
    "joblib.dump(X, 'X_data.pkl')\n",
    "joblib.dump(y_encoded, 'y_data.pkl')\n",
    "joblib.dump(label_encoder, 'label_encoder.pkl')\n",
    "print(\"Preprocessed data and label encoder saved.\")\n"
   ]
  },
  {
   "cell_type": "code",
   "execution_count": null,
   "id": "84783d1c",
   "metadata": {},
   "outputs": [
    {
     "name": "stdout",
     "output_type": "stream",
     "text": [
      "Total samples: 153\n",
      "Sample X: ['hi', 'hi', 'hello', 'hello', 'hey']\n",
      "Sample y_encoded: [7 7 7 7 7]\n"
     ]
    }
   ],
   "source": [
    "print(f\"Total samples: {len(X)}\")\n",
    "print(\"Sample X:\", X[:5])\n",
    "print(\"Sample y_encoded:\", y_encoded[:5])\n"
   ]
  }
 ],
 "metadata": {
  "kernelspec": {
   "display_name": "Python 3",
   "language": "python",
   "name": "python3"
  },
  "language_info": {
   "codemirror_mode": {
    "name": "ipython",
    "version": 3
   },
   "file_extension": ".py",
   "mimetype": "text/x-python",
   "name": "python",
   "nbconvert_exporter": "python",
   "pygments_lexer": "ipython3",
   "version": "3.12.3"
  }
 },
 "nbformat": 4,
 "nbformat_minor": 5
}
